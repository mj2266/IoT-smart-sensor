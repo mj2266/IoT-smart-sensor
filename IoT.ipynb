{
  "nbformat": 4,
  "nbformat_minor": 0,
  "metadata": {
    "colab": {
      "name": "IoT.ipynb",
      "provenance": [],
      "collapsed_sections": []
    },
    "kernelspec": {
      "name": "python3",
      "display_name": "Python 3"
    },
    "language_info": {
      "name": "python"
    }
  },
  "cells": [
    {
      "cell_type": "markdown",
      "metadata": {
        "id": "sQHvXGGKdWHr"
      },
      "source": [
        "\n",
        "# ASSIGNMENT 2\n",
        "*Manjyot Singh Nanra and Sharanya Saha*\n",
        "\n",
        "---\n",
        "\n",
        "\n",
        "ML Model: 2 Layer Perceptron"
      ]
    },
    {
      "cell_type": "code",
      "metadata": {
        "id": "HTi0UoE-mCUM"
      },
      "source": [
        "# Importing the required Libraries\n",
        "import pandas as pd\n",
        "import tensorflow as tf\n",
        "from tensorflow.keras.models import Sequential\n",
        "from tensorflow.keras.layers import Dense\n",
        "\n",
        "import numpy as np\n",
        "from sklearn.metrics import r2_score\n",
        "np.set_printoptions(suppress=True)"
      ],
      "execution_count": 1,
      "outputs": []
    },
    {
      "cell_type": "code",
      "metadata": {
        "id": "I3oCXAPia8nz"
      },
      "source": [
        "# Seed to reproduce results\n",
        "tf.random.set_seed(2000)"
      ],
      "execution_count": 2,
      "outputs": []
    },
    {
      "cell_type": "markdown",
      "metadata": {
        "id": "4AYyM753Dw4f"
      },
      "source": [
        "### DATASET:"
      ]
    },
    {
      "cell_type": "code",
      "metadata": {
        "id": "jasCp-sCmm2F"
      },
      "source": [
        "# Loading the required csv dataset in dataframe \n",
        "url='IOT_Assignment_2_data_regression_sensor_range.csv'\n",
        "df1 = pd.read_csv(url)\n"
      ],
      "execution_count": 3,
      "outputs": []
    },
    {
      "cell_type": "code",
      "metadata": {
        "id": "XFLY5Wjkt5K5"
      },
      "source": [
        "# Renaming the columns for dataset\n",
        "df1.columns=[\"humidity\", \"temperature\", \"waterflow\"]\n",
        "\n",
        "# Converting waterflow percentage to fraction\n",
        "df1[\"waterflow\"] = df1[\"waterflow\"]/100"
      ],
      "execution_count": 4,
      "outputs": []
    },
    {
      "cell_type": "markdown",
      "metadata": {
        "id": "WfLQxQ8GwReX"
      },
      "source": [
        "Inspecting whether data is correctly read"
      ]
    },
    {
      "cell_type": "code",
      "metadata": {
        "colab": {
          "base_uri": "https://localhost:8080/",
          "height": 203
        },
        "id": "zou-W10PuP-H",
        "outputId": "4a2c91ee-e0ef-4ffa-8fe9-ec3d78b8dca5"
      },
      "source": [
        "df1.head()"
      ],
      "execution_count": 5,
      "outputs": [
        {
          "output_type": "execute_result",
          "data": {
            "text/html": [
              "<div>\n",
              "<style scoped>\n",
              "    .dataframe tbody tr th:only-of-type {\n",
              "        vertical-align: middle;\n",
              "    }\n",
              "\n",
              "    .dataframe tbody tr th {\n",
              "        vertical-align: top;\n",
              "    }\n",
              "\n",
              "    .dataframe thead th {\n",
              "        text-align: right;\n",
              "    }\n",
              "</style>\n",
              "<table border=\"1\" class=\"dataframe\">\n",
              "  <thead>\n",
              "    <tr style=\"text-align: right;\">\n",
              "      <th></th>\n",
              "      <th>humidity</th>\n",
              "      <th>temperature</th>\n",
              "      <th>waterflow</th>\n",
              "    </tr>\n",
              "  </thead>\n",
              "  <tbody>\n",
              "    <tr>\n",
              "      <th>0</th>\n",
              "      <td>25.045045</td>\n",
              "      <td>76.856857</td>\n",
              "      <td>0.674326</td>\n",
              "    </tr>\n",
              "    <tr>\n",
              "      <th>1</th>\n",
              "      <td>8.880881</td>\n",
              "      <td>31.771772</td>\n",
              "      <td>0.000000</td>\n",
              "    </tr>\n",
              "    <tr>\n",
              "      <th>2</th>\n",
              "      <td>24.956957</td>\n",
              "      <td>75.735736</td>\n",
              "      <td>0.661059</td>\n",
              "    </tr>\n",
              "    <tr>\n",
              "      <th>3</th>\n",
              "      <td>40.328328</td>\n",
              "      <td>88.308308</td>\n",
              "      <td>0.000000</td>\n",
              "    </tr>\n",
              "    <tr>\n",
              "      <th>4</th>\n",
              "      <td>38.742743</td>\n",
              "      <td>57.157157</td>\n",
              "      <td>0.000000</td>\n",
              "    </tr>\n",
              "  </tbody>\n",
              "</table>\n",
              "</div>"
            ],
            "text/plain": [
              "    humidity  temperature  waterflow\n",
              "0  25.045045    76.856857   0.674326\n",
              "1   8.880881    31.771772   0.000000\n",
              "2  24.956957    75.735736   0.661059\n",
              "3  40.328328    88.308308   0.000000\n",
              "4  38.742743    57.157157   0.000000"
            ]
          },
          "metadata": {},
          "execution_count": 5
        }
      ]
    },
    {
      "cell_type": "code",
      "metadata": {
        "colab": {
          "base_uri": "https://localhost:8080/",
          "height": 295
        },
        "id": "mXd6Rif3HXLU",
        "outputId": "83d1ddb1-71f9-4af0-c703-856f973cc8e7"
      },
      "source": [
        "df1.describe()"
      ],
      "execution_count": 6,
      "outputs": [
        {
          "output_type": "execute_result",
          "data": {
            "text/html": [
              "<div>\n",
              "<style scoped>\n",
              "    .dataframe tbody tr th:only-of-type {\n",
              "        vertical-align: middle;\n",
              "    }\n",
              "\n",
              "    .dataframe tbody tr th {\n",
              "        vertical-align: top;\n",
              "    }\n",
              "\n",
              "    .dataframe thead th {\n",
              "        text-align: right;\n",
              "    }\n",
              "</style>\n",
              "<table border=\"1\" class=\"dataframe\">\n",
              "  <thead>\n",
              "    <tr style=\"text-align: right;\">\n",
              "      <th></th>\n",
              "      <th>humidity</th>\n",
              "      <th>temperature</th>\n",
              "      <th>waterflow</th>\n",
              "    </tr>\n",
              "  </thead>\n",
              "  <tbody>\n",
              "    <tr>\n",
              "      <th>count</th>\n",
              "      <td>200.000000</td>\n",
              "      <td>200.000000</td>\n",
              "      <td>200.000000</td>\n",
              "    </tr>\n",
              "    <tr>\n",
              "      <th>mean</th>\n",
              "      <td>31.137437</td>\n",
              "      <td>59.747347</td>\n",
              "      <td>0.254964</td>\n",
              "    </tr>\n",
              "    <tr>\n",
              "      <th>std</th>\n",
              "      <td>12.386344</td>\n",
              "      <td>23.112767</td>\n",
              "      <td>0.349537</td>\n",
              "    </tr>\n",
              "    <tr>\n",
              "      <th>min</th>\n",
              "      <td>8.132132</td>\n",
              "      <td>20.000000</td>\n",
              "      <td>0.000000</td>\n",
              "    </tr>\n",
              "    <tr>\n",
              "      <th>25%</th>\n",
              "      <td>21.015015</td>\n",
              "      <td>40.860861</td>\n",
              "      <td>0.000000</td>\n",
              "    </tr>\n",
              "    <tr>\n",
              "      <th>50%</th>\n",
              "      <td>30.616617</td>\n",
              "      <td>58.638639</td>\n",
              "      <td>0.000000</td>\n",
              "    </tr>\n",
              "    <tr>\n",
              "      <th>75%</th>\n",
              "      <td>41.528529</td>\n",
              "      <td>78.998999</td>\n",
              "      <td>0.618848</td>\n",
              "    </tr>\n",
              "    <tr>\n",
              "      <th>max</th>\n",
              "      <td>51.867868</td>\n",
              "      <td>100.000000</td>\n",
              "      <td>1.000000</td>\n",
              "    </tr>\n",
              "  </tbody>\n",
              "</table>\n",
              "</div>"
            ],
            "text/plain": [
              "         humidity  temperature   waterflow\n",
              "count  200.000000   200.000000  200.000000\n",
              "mean    31.137437    59.747347    0.254964\n",
              "std     12.386344    23.112767    0.349537\n",
              "min      8.132132    20.000000    0.000000\n",
              "25%     21.015015    40.860861    0.000000\n",
              "50%     30.616617    58.638639    0.000000\n",
              "75%     41.528529    78.998999    0.618848\n",
              "max     51.867868   100.000000    1.000000"
            ]
          },
          "metadata": {},
          "execution_count": 6
        }
      ]
    },
    {
      "cell_type": "code",
      "metadata": {
        "id": "Xjy8h5oiuQ0l"
      },
      "source": [
        "# Dividing into input and output variables\n",
        "X = df1.drop(['waterflow'],axis=1).values\n",
        "y=df1['waterflow'].values\n"
      ],
      "execution_count": 7,
      "outputs": []
    },
    {
      "cell_type": "markdown",
      "metadata": {
        "id": "-QbWLaMgDd3n"
      },
      "source": [
        "### Dividing the dataset into train and test set:\n",
        "Test ratio = 0.1"
      ]
    },
    {
      "cell_type": "code",
      "metadata": {
        "colab": {
          "base_uri": "https://localhost:8080/"
        },
        "id": "eUbe4XOAKMCw",
        "outputId": "66cc5d03-a519-436f-9319-f459dd9cf9da"
      },
      "source": [
        "shuffled_idx = np.random.RandomState(seed=2000).permutation(np.arange(X.shape[0]))\n",
        "shuffled_idx"
      ],
      "execution_count": 8,
      "outputs": [
        {
          "output_type": "execute_result",
          "data": {
            "text/plain": [
              "array([ 47, 140, 139,  25, 113,  19, 176,   3, 179, 115,  77,  38, 181,\n",
              "        84,  94, 136,  73,  86,  66,  68, 138,  59, 104,  88,  95,  56,\n",
              "       192,  65,  50, 185, 155,   2, 187,  67,  61, 135, 163,   0,  27,\n",
              "       159, 126,  17,  87, 175,  82,  70, 146, 112, 199, 171, 137,  13,\n",
              "       114,  80, 174, 108,  18,  51, 121,  26, 111,  49,   6, 158, 110,\n",
              "       161, 120,  29, 150, 128,  64, 145, 143, 172, 154,  90,  34, 129,\n",
              "        98,  75,  99, 127, 116, 119, 173, 106,  31,  11, 180,  30,  60,\n",
              "       184,  57, 164, 193, 198, 133,  76,  42, 122, 118,  23,  10, 186,\n",
              "       162, 169, 101, 157, 188,  36, 165, 125,  93, 148, 105,  22,  33,\n",
              "        55, 103,  89,  39, 153, 190, 131,  83,  46,  32,  48, 191,   7,\n",
              "        40,  96, 107,  37, 134, 177,  85,  62, 142, 132,   5,   9, 168,\n",
              "        74, 189,  44, 147, 149,  79,  24, 141, 166,  92,  78,  21, 152,\n",
              "        20,  69,  53, 100, 109,  58, 195, 117, 102,  81,  52, 160, 144,\n",
              "       130,  35,  63,   8,  16,   4,  41,  71,  97, 197, 170, 194, 196,\n",
              "       124,  45, 167, 151,  12,   1,  43,  91,  15,  14, 183, 178, 156,\n",
              "        28, 123,  54,  72, 182])"
            ]
          },
          "metadata": {},
          "execution_count": 8
        }
      ]
    },
    {
      "cell_type": "code",
      "metadata": {
        "id": "TjZDyCVoKMRG"
      },
      "source": [
        "test_ratio = 0.1\n",
        "split_idx = int(X.shape[0]*(1-test_ratio))\n",
        "train_idx, test_idx = shuffled_idx[:split_idx], shuffled_idx[split_idx:]"
      ],
      "execution_count": 9,
      "outputs": []
    },
    {
      "cell_type": "code",
      "metadata": {
        "id": "kvVc5Y9NKWkh"
      },
      "source": [
        "X_train, X_test, Y_train, Y_test = X[train_idx], X[test_idx], y[train_idx], y[test_idx]"
      ],
      "execution_count": 10,
      "outputs": []
    },
    {
      "cell_type": "markdown",
      "metadata": {
        "id": "Cq68LqBED5A_"
      },
      "source": [
        "### 2 Layer Perceptron ML Model\n",
        "Batch size used for training: 10 <br>\n",
        "No. of epochs used for training: 300 <br>\n",
        "Loss Function: Mean Squared Error <br>\n",
        "Optimizer: adam"
      ]
    },
    {
      "cell_type": "code",
      "metadata": {
        "colab": {
          "base_uri": "https://localhost:8080/"
        },
        "id": "cwlyqRHGFF-c",
        "outputId": "715a30ca-802f-4d13-a4b0-b2e2db3c3143"
      },
      "source": [
        "model = Sequential()\n",
        "model.add(Dense(7, input_dim=2, activation='relu'))\n",
        "model.add(Dense(7, activation='relu'))\n",
        "model.add(Dense(1, activation='sigmoid'))\n",
        "model.compile(loss='mean_squared_error', optimizer='adam', metrics=['MeanSquaredError'])\n",
        "model.fit(X_train, Y_train, epochs=300, batch_size=10)\n"
      ],
      "execution_count": 11,
      "outputs": [
        {
          "output_type": "stream",
          "name": "stdout",
          "text": [
            "18/18 [==============================] - 0s 2ms/step - loss: 0.1810 - mean_squared_error: 0.1810\n",
            "Epoch 29/300\n",
            "18/18 [==============================] - 0s 1ms/step - loss: 0.1339 - mean_squared_error: 0.1339\n",
            "Epoch 30/300\n",
            "18/18 [==============================] - 0s 2ms/step - loss: 0.0816 - mean_squared_error: 0.0816\n",
            "Epoch 31/300\n",
            "18/18 [==============================] - 0s 2ms/step - loss: 0.0736 - mean_squared_error: 0.0736\n",
            "Epoch 32/300\n",
            "18/18 [==============================] - 0s 1ms/step - loss: 0.0734 - mean_squared_error: 0.0734\n",
            "Epoch 33/300\n",
            "18/18 [==============================] - 0s 2ms/step - loss: 0.0769 - mean_squared_error: 0.0769\n",
            "Epoch 34/300\n",
            "18/18 [==============================] - 0s 2ms/step - loss: 0.0842 - mean_squared_error: 0.0842\n",
            "Epoch 35/300\n",
            "18/18 [==============================] - 0s 2ms/step - loss: 0.0727 - mean_squared_error: 0.0727\n",
            "Epoch 36/300\n",
            "18/18 [==============================] - 0s 1ms/step - loss: 0.0721 - mean_squared_error: 0.0721\n",
            "Epoch 37/300\n",
            "18/18 [==============================] - 0s 2ms/step - loss: 0.0701 - mean_squared_error: 0.0701\n",
            "Epoch 38/300\n",
            "18/18 [==============================] - 0s 1ms/step - loss: 0.0724 - mean_squared_error: 0.0724\n",
            "Epoch 39/300\n",
            "18/18 [==============================] - 0s 2ms/step - loss: 0.0696 - mean_squared_error: 0.0696\n",
            "Epoch 40/300\n",
            "18/18 [==============================] - 0s 2ms/step - loss: 0.0683 - mean_squared_error: 0.0683\n",
            "Epoch 41/300\n",
            "18/18 [==============================] - 0s 1ms/step - loss: 0.0711 - mean_squared_error: 0.0711\n",
            "Epoch 42/300\n",
            "18/18 [==============================] - 0s 1ms/step - loss: 0.0691 - mean_squared_error: 0.0691\n",
            "Epoch 43/300\n",
            "18/18 [==============================] - 0s 1ms/step - loss: 0.0674 - mean_squared_error: 0.0674\n",
            "Epoch 44/300\n",
            "18/18 [==============================] - 0s 2ms/step - loss: 0.0674 - mean_squared_error: 0.0674\n",
            "Epoch 45/300\n",
            "18/18 [==============================] - 0s 1ms/step - loss: 0.0684 - mean_squared_error: 0.0684\n",
            "Epoch 46/300\n",
            "18/18 [==============================] - 0s 2ms/step - loss: 0.0653 - mean_squared_error: 0.0653\n",
            "Epoch 47/300\n",
            "18/18 [==============================] - 0s 1ms/step - loss: 0.0651 - mean_squared_error: 0.0651\n",
            "Epoch 48/300\n",
            "18/18 [==============================] - 0s 2ms/step - loss: 0.0667 - mean_squared_error: 0.0667\n",
            "Epoch 49/300\n",
            "18/18 [==============================] - 0s 2ms/step - loss: 0.0655 - mean_squared_error: 0.0655\n",
            "Epoch 50/300\n",
            "18/18 [==============================] - 0s 1ms/step - loss: 0.0678 - mean_squared_error: 0.0678\n",
            "Epoch 51/300\n",
            "18/18 [==============================] - 0s 2ms/step - loss: 0.0638 - mean_squared_error: 0.0638\n",
            "Epoch 52/300\n",
            "18/18 [==============================] - 0s 2ms/step - loss: 0.0696 - mean_squared_error: 0.0696\n",
            "Epoch 53/300\n",
            "18/18 [==============================] - 0s 1ms/step - loss: 0.0637 - mean_squared_error: 0.0637\n",
            "Epoch 54/300\n",
            "18/18 [==============================] - 0s 1ms/step - loss: 0.0633 - mean_squared_error: 0.0633\n",
            "Epoch 55/300\n",
            "18/18 [==============================] - 0s 2ms/step - loss: 0.0620 - mean_squared_error: 0.0620\n",
            "Epoch 56/300\n",
            "18/18 [==============================] - 0s 1ms/step - loss: 0.0616 - mean_squared_error: 0.0616\n",
            "Epoch 57/300\n",
            "18/18 [==============================] - 0s 1ms/step - loss: 0.0645 - mean_squared_error: 0.0645\n",
            "Epoch 58/300\n",
            "18/18 [==============================] - 0s 2ms/step - loss: 0.0629 - mean_squared_error: 0.0629\n",
            "Epoch 59/300\n",
            "18/18 [==============================] - 0s 2ms/step - loss: 0.0631 - mean_squared_error: 0.0631\n",
            "Epoch 60/300\n",
            "18/18 [==============================] - 0s 2ms/step - loss: 0.0634 - mean_squared_error: 0.0634\n",
            "Epoch 61/300\n",
            "18/18 [==============================] - 0s 1ms/step - loss: 0.0614 - mean_squared_error: 0.0614\n",
            "Epoch 62/300\n",
            "18/18 [==============================] - 0s 1ms/step - loss: 0.0591 - mean_squared_error: 0.0591\n",
            "Epoch 63/300\n",
            "18/18 [==============================] - 0s 1ms/step - loss: 0.0598 - mean_squared_error: 0.0598\n",
            "Epoch 64/300\n",
            "18/18 [==============================] - 0s 2ms/step - loss: 0.0576 - mean_squared_error: 0.0576\n",
            "Epoch 65/300\n",
            "18/18 [==============================] - 0s 2ms/step - loss: 0.0589 - mean_squared_error: 0.0589\n",
            "Epoch 66/300\n",
            "18/18 [==============================] - 0s 1ms/step - loss: 0.0607 - mean_squared_error: 0.0607\n",
            "Epoch 67/300\n",
            "18/18 [==============================] - 0s 1ms/step - loss: 0.0572 - mean_squared_error: 0.0572\n",
            "Epoch 68/300\n",
            "18/18 [==============================] - 0s 1ms/step - loss: 0.0566 - mean_squared_error: 0.0566\n",
            "Epoch 69/300\n",
            "18/18 [==============================] - 0s 2ms/step - loss: 0.0571 - mean_squared_error: 0.0571\n",
            "Epoch 70/300\n",
            "18/18 [==============================] - 0s 1ms/step - loss: 0.0595 - mean_squared_error: 0.0595\n",
            "Epoch 71/300\n",
            "18/18 [==============================] - 0s 2ms/step - loss: 0.0605 - mean_squared_error: 0.0605\n",
            "Epoch 72/300\n",
            "18/18 [==============================] - 0s 2ms/step - loss: 0.0567 - mean_squared_error: 0.0567\n",
            "Epoch 73/300\n",
            "18/18 [==============================] - 0s 1ms/step - loss: 0.0545 - mean_squared_error: 0.0545\n",
            "Epoch 74/300\n",
            "18/18 [==============================] - 0s 1ms/step - loss: 0.0552 - mean_squared_error: 0.0552\n",
            "Epoch 75/300\n",
            "18/18 [==============================] - 0s 2ms/step - loss: 0.0533 - mean_squared_error: 0.0533\n",
            "Epoch 76/300\n",
            "18/18 [==============================] - 0s 1ms/step - loss: 0.0589 - mean_squared_error: 0.0589\n",
            "Epoch 77/300\n",
            "18/18 [==============================] - 0s 1ms/step - loss: 0.0546 - mean_squared_error: 0.0546\n",
            "Epoch 78/300\n",
            "18/18 [==============================] - 0s 2ms/step - loss: 0.0536 - mean_squared_error: 0.0536\n",
            "Epoch 79/300\n",
            "18/18 [==============================] - 0s 2ms/step - loss: 0.0539 - mean_squared_error: 0.0539\n",
            "Epoch 80/300\n",
            "18/18 [==============================] - 0s 1ms/step - loss: 0.0513 - mean_squared_error: 0.0513\n",
            "Epoch 81/300\n",
            "18/18 [==============================] - 0s 1ms/step - loss: 0.0521 - mean_squared_error: 0.0521\n",
            "Epoch 82/300\n",
            "18/18 [==============================] - 0s 2ms/step - loss: 0.0517 - mean_squared_error: 0.0517\n",
            "Epoch 83/300\n",
            "18/18 [==============================] - 0s 2ms/step - loss: 0.0514 - mean_squared_error: 0.0514\n",
            "Epoch 84/300\n",
            "18/18 [==============================] - 0s 1ms/step - loss: 0.0496 - mean_squared_error: 0.0496\n",
            "Epoch 85/300\n",
            "18/18 [==============================] - 0s 2ms/step - loss: 0.0505 - mean_squared_error: 0.0505\n",
            "Epoch 86/300\n",
            "18/18 [==============================] - 0s 2ms/step - loss: 0.0544 - mean_squared_error: 0.0544\n",
            "Epoch 87/300\n",
            "18/18 [==============================] - 0s 2ms/step - loss: 0.0596 - mean_squared_error: 0.0596\n",
            "Epoch 88/300\n",
            "18/18 [==============================] - 0s 2ms/step - loss: 0.0585 - mean_squared_error: 0.0585\n",
            "Epoch 89/300\n",
            "18/18 [==============================] - 0s 2ms/step - loss: 0.0544 - mean_squared_error: 0.0544\n",
            "Epoch 90/300\n",
            "18/18 [==============================] - 0s 2ms/step - loss: 0.0490 - mean_squared_error: 0.0490\n",
            "Epoch 91/300\n",
            "18/18 [==============================] - 0s 2ms/step - loss: 0.0521 - mean_squared_error: 0.0521\n",
            "Epoch 92/300\n",
            "18/18 [==============================] - 0s 2ms/step - loss: 0.0478 - mean_squared_error: 0.0478\n",
            "Epoch 93/300\n",
            "18/18 [==============================] - 0s 2ms/step - loss: 0.0490 - mean_squared_error: 0.0490\n",
            "Epoch 94/300\n",
            "18/18 [==============================] - 0s 2ms/step - loss: 0.0508 - mean_squared_error: 0.0508\n",
            "Epoch 95/300\n",
            "18/18 [==============================] - 0s 1ms/step - loss: 0.0480 - mean_squared_error: 0.0480\n",
            "Epoch 96/300\n",
            "18/18 [==============================] - 0s 1ms/step - loss: 0.0470 - mean_squared_error: 0.0470\n",
            "Epoch 97/300\n",
            "18/18 [==============================] - 0s 2ms/step - loss: 0.0477 - mean_squared_error: 0.0477\n",
            "Epoch 98/300\n",
            "18/18 [==============================] - 0s 2ms/step - loss: 0.0491 - mean_squared_error: 0.0491\n",
            "Epoch 99/300\n",
            "18/18 [==============================] - 0s 2ms/step - loss: 0.0524 - mean_squared_error: 0.0524\n",
            "Epoch 100/300\n",
            "18/18 [==============================] - 0s 2ms/step - loss: 0.0477 - mean_squared_error: 0.0477\n",
            "Epoch 101/300\n",
            "18/18 [==============================] - 0s 1ms/step - loss: 0.0488 - mean_squared_error: 0.0488\n",
            "Epoch 102/300\n",
            "18/18 [==============================] - 0s 2ms/step - loss: 0.0477 - mean_squared_error: 0.0477\n",
            "Epoch 103/300\n",
            "18/18 [==============================] - 0s 2ms/step - loss: 0.0452 - mean_squared_error: 0.0452\n",
            "Epoch 104/300\n",
            "18/18 [==============================] - 0s 2ms/step - loss: 0.0460 - mean_squared_error: 0.0460\n",
            "Epoch 105/300\n",
            "18/18 [==============================] - 0s 1ms/step - loss: 0.0454 - mean_squared_error: 0.0454\n",
            "Epoch 106/300\n",
            "18/18 [==============================] - 0s 2ms/step - loss: 0.0452 - mean_squared_error: 0.0452\n",
            "Epoch 107/300\n",
            "18/18 [==============================] - 0s 2ms/step - loss: 0.0492 - mean_squared_error: 0.0492\n",
            "Epoch 108/300\n",
            "18/18 [==============================] - 0s 2ms/step - loss: 0.0452 - mean_squared_error: 0.0452\n",
            "Epoch 109/300\n",
            "18/18 [==============================] - 0s 2ms/step - loss: 0.0437 - mean_squared_error: 0.0437\n",
            "Epoch 110/300\n",
            "18/18 [==============================] - 0s 1ms/step - loss: 0.0469 - mean_squared_error: 0.0469\n",
            "Epoch 111/300\n",
            "18/18 [==============================] - 0s 2ms/step - loss: 0.0529 - mean_squared_error: 0.0529\n",
            "Epoch 112/300\n",
            "18/18 [==============================] - 0s 2ms/step - loss: 0.0446 - mean_squared_error: 0.0446\n",
            "Epoch 113/300\n",
            "18/18 [==============================] - 0s 1ms/step - loss: 0.0428 - mean_squared_error: 0.0428\n",
            "Epoch 114/300\n",
            "18/18 [==============================] - 0s 2ms/step - loss: 0.0431 - mean_squared_error: 0.0431\n",
            "Epoch 115/300\n",
            "18/18 [==============================] - 0s 2ms/step - loss: 0.0431 - mean_squared_error: 0.0431\n",
            "Epoch 116/300\n",
            "18/18 [==============================] - 0s 2ms/step - loss: 0.0438 - mean_squared_error: 0.0438\n",
            "Epoch 117/300\n",
            "18/18 [==============================] - 0s 2ms/step - loss: 0.0418 - mean_squared_error: 0.0418\n",
            "Epoch 118/300\n",
            "18/18 [==============================] - 0s 1ms/step - loss: 0.0419 - mean_squared_error: 0.0419\n",
            "Epoch 119/300\n",
            "18/18 [==============================] - 0s 1ms/step - loss: 0.0424 - mean_squared_error: 0.0424\n",
            "Epoch 120/300\n",
            "18/18 [==============================] - 0s 1ms/step - loss: 0.0419 - mean_squared_error: 0.0419\n",
            "Epoch 121/300\n",
            "18/18 [==============================] - 0s 2ms/step - loss: 0.0415 - mean_squared_error: 0.0415\n",
            "Epoch 122/300\n",
            "18/18 [==============================] - 0s 2ms/step - loss: 0.0467 - mean_squared_error: 0.0467\n",
            "Epoch 123/300\n",
            "18/18 [==============================] - 0s 2ms/step - loss: 0.0451 - mean_squared_error: 0.0451\n",
            "Epoch 124/300\n",
            "18/18 [==============================] - 0s 2ms/step - loss: 0.0459 - mean_squared_error: 0.0459\n",
            "Epoch 125/300\n",
            "18/18 [==============================] - 0s 1ms/step - loss: 0.0496 - mean_squared_error: 0.0496\n",
            "Epoch 126/300\n",
            "18/18 [==============================] - 0s 1ms/step - loss: 0.0443 - mean_squared_error: 0.0443\n",
            "Epoch 127/300\n",
            "18/18 [==============================] - 0s 2ms/step - loss: 0.0426 - mean_squared_error: 0.0426\n",
            "Epoch 128/300\n",
            "18/18 [==============================] - 0s 1ms/step - loss: 0.0403 - mean_squared_error: 0.0403\n",
            "Epoch 129/300\n",
            "18/18 [==============================] - 0s 2ms/step - loss: 0.0399 - mean_squared_error: 0.0399\n",
            "Epoch 130/300\n",
            "18/18 [==============================] - 0s 2ms/step - loss: 0.0439 - mean_squared_error: 0.0439\n",
            "Epoch 131/300\n",
            "18/18 [==============================] - 0s 2ms/step - loss: 0.0431 - mean_squared_error: 0.0431\n",
            "Epoch 132/300\n",
            "18/18 [==============================] - 0s 2ms/step - loss: 0.0442 - mean_squared_error: 0.0442\n",
            "Epoch 133/300\n",
            "18/18 [==============================] - 0s 2ms/step - loss: 0.0405 - mean_squared_error: 0.0405\n",
            "Epoch 134/300\n",
            "18/18 [==============================] - 0s 2ms/step - loss: 0.0386 - mean_squared_error: 0.0386\n",
            "Epoch 135/300\n",
            "18/18 [==============================] - 0s 2ms/step - loss: 0.0411 - mean_squared_error: 0.0411\n",
            "Epoch 136/300\n",
            "18/18 [==============================] - 0s 2ms/step - loss: 0.0403 - mean_squared_error: 0.0403\n",
            "Epoch 137/300\n",
            "18/18 [==============================] - 0s 2ms/step - loss: 0.0422 - mean_squared_error: 0.0422\n",
            "Epoch 138/300\n",
            "18/18 [==============================] - 0s 2ms/step - loss: 0.0384 - mean_squared_error: 0.0384\n",
            "Epoch 139/300\n",
            "18/18 [==============================] - 0s 1ms/step - loss: 0.0390 - mean_squared_error: 0.0390\n",
            "Epoch 140/300\n",
            "18/18 [==============================] - 0s 1ms/step - loss: 0.0384 - mean_squared_error: 0.0384\n",
            "Epoch 141/300\n",
            "18/18 [==============================] - 0s 2ms/step - loss: 0.0406 - mean_squared_error: 0.0406\n",
            "Epoch 142/300\n",
            "18/18 [==============================] - 0s 2ms/step - loss: 0.0404 - mean_squared_error: 0.0404\n",
            "Epoch 143/300\n",
            "18/18 [==============================] - 0s 2ms/step - loss: 0.0386 - mean_squared_error: 0.0386\n",
            "Epoch 144/300\n",
            "18/18 [==============================] - 0s 1ms/step - loss: 0.0394 - mean_squared_error: 0.0394\n",
            "Epoch 145/300\n",
            "18/18 [==============================] - 0s 2ms/step - loss: 0.0372 - mean_squared_error: 0.0372\n",
            "Epoch 146/300\n",
            "18/18 [==============================] - 0s 2ms/step - loss: 0.0392 - mean_squared_error: 0.0392\n",
            "Epoch 147/300\n",
            "18/18 [==============================] - 0s 2ms/step - loss: 0.0369 - mean_squared_error: 0.0369\n",
            "Epoch 148/300\n",
            "18/18 [==============================] - 0s 2ms/step - loss: 0.0381 - mean_squared_error: 0.0381\n",
            "Epoch 149/300\n",
            "18/18 [==============================] - 0s 2ms/step - loss: 0.0377 - mean_squared_error: 0.0377\n",
            "Epoch 150/300\n",
            "18/18 [==============================] - 0s 2ms/step - loss: 0.0379 - mean_squared_error: 0.0379\n",
            "Epoch 151/300\n",
            "18/18 [==============================] - 0s 2ms/step - loss: 0.0385 - mean_squared_error: 0.0385\n",
            "Epoch 152/300\n",
            "18/18 [==============================] - 0s 2ms/step - loss: 0.0382 - mean_squared_error: 0.0382\n",
            "Epoch 153/300\n",
            "18/18 [==============================] - 0s 1ms/step - loss: 0.0379 - mean_squared_error: 0.0379\n",
            "Epoch 154/300\n",
            "18/18 [==============================] - 0s 1ms/step - loss: 0.0383 - mean_squared_error: 0.0383\n",
            "Epoch 155/300\n",
            "18/18 [==============================] - 0s 2ms/step - loss: 0.0392 - mean_squared_error: 0.0392\n",
            "Epoch 156/300\n",
            "18/18 [==============================] - 0s 2ms/step - loss: 0.0369 - mean_squared_error: 0.0369\n",
            "Epoch 157/300\n",
            "18/18 [==============================] - 0s 2ms/step - loss: 0.0367 - mean_squared_error: 0.0367\n",
            "Epoch 158/300\n",
            "18/18 [==============================] - 0s 2ms/step - loss: 0.0385 - mean_squared_error: 0.0385\n",
            "Epoch 159/300\n",
            "18/18 [==============================] - 0s 2ms/step - loss: 0.0379 - mean_squared_error: 0.0379\n",
            "Epoch 160/300\n",
            "18/18 [==============================] - 0s 2ms/step - loss: 0.0362 - mean_squared_error: 0.0362\n",
            "Epoch 161/300\n",
            "18/18 [==============================] - 0s 2ms/step - loss: 0.0359 - mean_squared_error: 0.0359\n",
            "Epoch 162/300\n",
            "18/18 [==============================] - 0s 2ms/step - loss: 0.0371 - mean_squared_error: 0.0371\n",
            "Epoch 163/300\n",
            "18/18 [==============================] - 0s 2ms/step - loss: 0.0362 - mean_squared_error: 0.0362\n",
            "Epoch 164/300\n",
            "18/18 [==============================] - 0s 2ms/step - loss: 0.0365 - mean_squared_error: 0.0365\n",
            "Epoch 165/300\n",
            "18/18 [==============================] - 0s 2ms/step - loss: 0.0369 - mean_squared_error: 0.0369\n",
            "Epoch 166/300\n",
            "18/18 [==============================] - 0s 2ms/step - loss: 0.0373 - mean_squared_error: 0.0373\n",
            "Epoch 167/300\n",
            "18/18 [==============================] - 0s 2ms/step - loss: 0.0359 - mean_squared_error: 0.0359\n",
            "Epoch 168/300\n",
            "18/18 [==============================] - 0s 2ms/step - loss: 0.0368 - mean_squared_error: 0.0368\n",
            "Epoch 169/300\n",
            "18/18 [==============================] - 0s 2ms/step - loss: 0.0365 - mean_squared_error: 0.0365\n",
            "Epoch 170/300\n",
            "18/18 [==============================] - 0s 1ms/step - loss: 0.0354 - mean_squared_error: 0.0354\n",
            "Epoch 171/300\n",
            "18/18 [==============================] - 0s 2ms/step - loss: 0.0359 - mean_squared_error: 0.0359\n",
            "Epoch 172/300\n",
            "18/18 [==============================] - 0s 2ms/step - loss: 0.0366 - mean_squared_error: 0.0366\n",
            "Epoch 173/300\n",
            "18/18 [==============================] - 0s 2ms/step - loss: 0.0367 - mean_squared_error: 0.0367\n",
            "Epoch 174/300\n",
            "18/18 [==============================] - 0s 2ms/step - loss: 0.0391 - mean_squared_error: 0.0391\n",
            "Epoch 175/300\n",
            "18/18 [==============================] - 0s 2ms/step - loss: 0.0360 - mean_squared_error: 0.0360\n",
            "Epoch 176/300\n",
            "18/18 [==============================] - 0s 2ms/step - loss: 0.0373 - mean_squared_error: 0.0373\n",
            "Epoch 177/300\n",
            "18/18 [==============================] - 0s 2ms/step - loss: 0.0354 - mean_squared_error: 0.0354\n",
            "Epoch 178/300\n",
            "18/18 [==============================] - 0s 2ms/step - loss: 0.0350 - mean_squared_error: 0.0350\n",
            "Epoch 179/300\n",
            "18/18 [==============================] - 0s 2ms/step - loss: 0.0349 - mean_squared_error: 0.0349\n",
            "Epoch 180/300\n",
            "18/18 [==============================] - 0s 2ms/step - loss: 0.0415 - mean_squared_error: 0.0415\n",
            "Epoch 181/300\n",
            "18/18 [==============================] - 0s 2ms/step - loss: 0.0365 - mean_squared_error: 0.0365\n",
            "Epoch 182/300\n",
            "18/18 [==============================] - 0s 2ms/step - loss: 0.0353 - mean_squared_error: 0.0353\n",
            "Epoch 183/300\n",
            "18/18 [==============================] - 0s 2ms/step - loss: 0.0349 - mean_squared_error: 0.0349\n",
            "Epoch 184/300\n",
            "18/18 [==============================] - 0s 2ms/step - loss: 0.0380 - mean_squared_error: 0.0380\n",
            "Epoch 185/300\n",
            "18/18 [==============================] - 0s 2ms/step - loss: 0.0356 - mean_squared_error: 0.0356\n",
            "Epoch 186/300\n",
            "18/18 [==============================] - 0s 1ms/step - loss: 0.0368 - mean_squared_error: 0.0368\n",
            "Epoch 187/300\n",
            "18/18 [==============================] - 0s 2ms/step - loss: 0.0400 - mean_squared_error: 0.0400\n",
            "Epoch 188/300\n",
            "18/18 [==============================] - 0s 2ms/step - loss: 0.0378 - mean_squared_error: 0.0378\n",
            "Epoch 189/300\n",
            "18/18 [==============================] - 0s 1ms/step - loss: 0.0342 - mean_squared_error: 0.0342\n",
            "Epoch 190/300\n",
            "18/18 [==============================] - 0s 2ms/step - loss: 0.0369 - mean_squared_error: 0.0369\n",
            "Epoch 191/300\n",
            "18/18 [==============================] - 0s 1ms/step - loss: 0.0362 - mean_squared_error: 0.0362\n",
            "Epoch 192/300\n",
            "18/18 [==============================] - 0s 2ms/step - loss: 0.0376 - mean_squared_error: 0.0376\n",
            "Epoch 193/300\n",
            "18/18 [==============================] - 0s 2ms/step - loss: 0.0435 - mean_squared_error: 0.0435\n",
            "Epoch 194/300\n",
            "18/18 [==============================] - 0s 2ms/step - loss: 0.0368 - mean_squared_error: 0.0368\n",
            "Epoch 195/300\n",
            "18/18 [==============================] - 0s 2ms/step - loss: 0.0352 - mean_squared_error: 0.0352\n",
            "Epoch 196/300\n",
            "18/18 [==============================] - 0s 2ms/step - loss: 0.0368 - mean_squared_error: 0.0368\n",
            "Epoch 197/300\n",
            "18/18 [==============================] - 0s 2ms/step - loss: 0.0341 - mean_squared_error: 0.0341\n",
            "Epoch 198/300\n",
            "18/18 [==============================] - 0s 2ms/step - loss: 0.0365 - mean_squared_error: 0.0365\n",
            "Epoch 199/300\n",
            "18/18 [==============================] - 0s 2ms/step - loss: 0.0339 - mean_squared_error: 0.0339\n",
            "Epoch 200/300\n",
            "18/18 [==============================] - 0s 2ms/step - loss: 0.0380 - mean_squared_error: 0.0380\n",
            "Epoch 201/300\n",
            "18/18 [==============================] - 0s 2ms/step - loss: 0.0366 - mean_squared_error: 0.0366\n",
            "Epoch 202/300\n",
            "18/18 [==============================] - 0s 1ms/step - loss: 0.0340 - mean_squared_error: 0.0340\n",
            "Epoch 203/300\n",
            "18/18 [==============================] - 0s 2ms/step - loss: 0.0336 - mean_squared_error: 0.0336\n",
            "Epoch 204/300\n",
            "18/18 [==============================] - 0s 1ms/step - loss: 0.0338 - mean_squared_error: 0.0338\n",
            "Epoch 205/300\n",
            "18/18 [==============================] - 0s 1ms/step - loss: 0.0357 - mean_squared_error: 0.0357\n",
            "Epoch 206/300\n",
            "18/18 [==============================] - 0s 1ms/step - loss: 0.0364 - mean_squared_error: 0.0364\n",
            "Epoch 207/300\n",
            "18/18 [==============================] - 0s 1ms/step - loss: 0.0391 - mean_squared_error: 0.0391\n",
            "Epoch 208/300\n",
            "18/18 [==============================] - 0s 1ms/step - loss: 0.0330 - mean_squared_error: 0.0330\n",
            "Epoch 209/300\n",
            "18/18 [==============================] - 0s 1ms/step - loss: 0.0357 - mean_squared_error: 0.0357\n",
            "Epoch 210/300\n",
            "18/18 [==============================] - 0s 1ms/step - loss: 0.0402 - mean_squared_error: 0.0402\n",
            "Epoch 211/300\n",
            "18/18 [==============================] - 0s 2ms/step - loss: 0.0334 - mean_squared_error: 0.0334\n",
            "Epoch 212/300\n",
            "18/18 [==============================] - 0s 1ms/step - loss: 0.0340 - mean_squared_error: 0.0340\n",
            "Epoch 213/300\n",
            "18/18 [==============================] - 0s 2ms/step - loss: 0.0373 - mean_squared_error: 0.0373\n",
            "Epoch 214/300\n",
            "18/18 [==============================] - 0s 1ms/step - loss: 0.0342 - mean_squared_error: 0.0342\n",
            "Epoch 215/300\n",
            "18/18 [==============================] - 0s 1ms/step - loss: 0.0360 - mean_squared_error: 0.0360\n",
            "Epoch 216/300\n",
            "18/18 [==============================] - 0s 2ms/step - loss: 0.0337 - mean_squared_error: 0.0337\n",
            "Epoch 217/300\n",
            "18/18 [==============================] - 0s 2ms/step - loss: 0.0330 - mean_squared_error: 0.0330\n",
            "Epoch 218/300\n",
            "18/18 [==============================] - 0s 2ms/step - loss: 0.0333 - mean_squared_error: 0.0333\n",
            "Epoch 219/300\n",
            "18/18 [==============================] - 0s 2ms/step - loss: 0.0342 - mean_squared_error: 0.0342\n",
            "Epoch 220/300\n",
            "18/18 [==============================] - 0s 2ms/step - loss: 0.0332 - mean_squared_error: 0.0332\n",
            "Epoch 221/300\n",
            "18/18 [==============================] - 0s 2ms/step - loss: 0.0377 - mean_squared_error: 0.0377\n",
            "Epoch 222/300\n",
            "18/18 [==============================] - 0s 2ms/step - loss: 0.0358 - mean_squared_error: 0.0358\n",
            "Epoch 223/300\n",
            "18/18 [==============================] - 0s 2ms/step - loss: 0.0376 - mean_squared_error: 0.0376\n",
            "Epoch 224/300\n",
            "18/18 [==============================] - 0s 2ms/step - loss: 0.0419 - mean_squared_error: 0.0419\n",
            "Epoch 225/300\n",
            "18/18 [==============================] - 0s 2ms/step - loss: 0.0347 - mean_squared_error: 0.0347\n",
            "Epoch 226/300\n",
            "18/18 [==============================] - 0s 2ms/step - loss: 0.0370 - mean_squared_error: 0.0370\n",
            "Epoch 227/300\n",
            "18/18 [==============================] - 0s 2ms/step - loss: 0.0322 - mean_squared_error: 0.0322\n",
            "Epoch 228/300\n",
            "18/18 [==============================] - 0s 2ms/step - loss: 0.0346 - mean_squared_error: 0.0346\n",
            "Epoch 229/300\n",
            "18/18 [==============================] - 0s 2ms/step - loss: 0.0353 - mean_squared_error: 0.0353\n",
            "Epoch 230/300\n",
            "18/18 [==============================] - 0s 2ms/step - loss: 0.0326 - mean_squared_error: 0.0326\n",
            "Epoch 231/300\n",
            "18/18 [==============================] - 0s 1ms/step - loss: 0.0356 - mean_squared_error: 0.0356\n",
            "Epoch 232/300\n",
            "18/18 [==============================] - 0s 2ms/step - loss: 0.0323 - mean_squared_error: 0.0323\n",
            "Epoch 233/300\n",
            "18/18 [==============================] - 0s 1ms/step - loss: 0.0320 - mean_squared_error: 0.0320\n",
            "Epoch 234/300\n",
            "18/18 [==============================] - 0s 2ms/step - loss: 0.0348 - mean_squared_error: 0.0348\n",
            "Epoch 235/300\n",
            "18/18 [==============================] - 0s 2ms/step - loss: 0.0385 - mean_squared_error: 0.0385\n",
            "Epoch 236/300\n",
            "18/18 [==============================] - 0s 2ms/step - loss: 0.0328 - mean_squared_error: 0.0328\n",
            "Epoch 237/300\n",
            "18/18 [==============================] - 0s 2ms/step - loss: 0.0322 - mean_squared_error: 0.0322\n",
            "Epoch 238/300\n",
            "18/18 [==============================] - 0s 2ms/step - loss: 0.0331 - mean_squared_error: 0.0331\n",
            "Epoch 239/300\n",
            "18/18 [==============================] - 0s 2ms/step - loss: 0.0339 - mean_squared_error: 0.0339\n",
            "Epoch 240/300\n",
            "18/18 [==============================] - 0s 2ms/step - loss: 0.0319 - mean_squared_error: 0.0319\n",
            "Epoch 241/300\n",
            "18/18 [==============================] - 0s 2ms/step - loss: 0.0345 - mean_squared_error: 0.0345\n",
            "Epoch 242/300\n",
            "18/18 [==============================] - 0s 2ms/step - loss: 0.0344 - mean_squared_error: 0.0344\n",
            "Epoch 243/300\n",
            "18/18 [==============================] - 0s 2ms/step - loss: 0.0347 - mean_squared_error: 0.0347\n",
            "Epoch 244/300\n",
            "18/18 [==============================] - 0s 2ms/step - loss: 0.0320 - mean_squared_error: 0.0320\n",
            "Epoch 245/300\n",
            "18/18 [==============================] - 0s 1ms/step - loss: 0.0328 - mean_squared_error: 0.0328\n",
            "Epoch 246/300\n",
            "18/18 [==============================] - 0s 2ms/step - loss: 0.0326 - mean_squared_error: 0.0326\n",
            "Epoch 247/300\n",
            "18/18 [==============================] - 0s 2ms/step - loss: 0.0334 - mean_squared_error: 0.0334\n",
            "Epoch 248/300\n",
            "18/18 [==============================] - 0s 2ms/step - loss: 0.0317 - mean_squared_error: 0.0317\n",
            "Epoch 249/300\n",
            "18/18 [==============================] - 0s 2ms/step - loss: 0.0313 - mean_squared_error: 0.0313\n",
            "Epoch 250/300\n",
            "18/18 [==============================] - 0s 2ms/step - loss: 0.0321 - mean_squared_error: 0.0321\n",
            "Epoch 251/300\n",
            "18/18 [==============================] - 0s 2ms/step - loss: 0.0327 - mean_squared_error: 0.0327\n",
            "Epoch 252/300\n",
            "18/18 [==============================] - 0s 2ms/step - loss: 0.0396 - mean_squared_error: 0.0396\n",
            "Epoch 253/300\n",
            "18/18 [==============================] - 0s 2ms/step - loss: 0.0313 - mean_squared_error: 0.0313\n",
            "Epoch 254/300\n",
            "18/18 [==============================] - 0s 2ms/step - loss: 0.0317 - mean_squared_error: 0.0317\n",
            "Epoch 255/300\n",
            "18/18 [==============================] - 0s 1ms/step - loss: 0.0315 - mean_squared_error: 0.0315\n",
            "Epoch 256/300\n",
            "18/18 [==============================] - 0s 2ms/step - loss: 0.0347 - mean_squared_error: 0.0347\n",
            "Epoch 257/300\n",
            "18/18 [==============================] - 0s 2ms/step - loss: 0.0316 - mean_squared_error: 0.0316\n",
            "Epoch 258/300\n",
            "18/18 [==============================] - 0s 2ms/step - loss: 0.0343 - mean_squared_error: 0.0343\n",
            "Epoch 259/300\n",
            "18/18 [==============================] - 0s 2ms/step - loss: 0.0339 - mean_squared_error: 0.0339\n",
            "Epoch 260/300\n",
            "18/18 [==============================] - 0s 2ms/step - loss: 0.0316 - mean_squared_error: 0.0316\n",
            "Epoch 261/300\n",
            "18/18 [==============================] - 0s 2ms/step - loss: 0.0315 - mean_squared_error: 0.0315\n",
            "Epoch 262/300\n",
            "18/18 [==============================] - 0s 2ms/step - loss: 0.0362 - mean_squared_error: 0.0362\n",
            "Epoch 263/300\n",
            "18/18 [==============================] - 0s 2ms/step - loss: 0.0328 - mean_squared_error: 0.0328\n",
            "Epoch 264/300\n",
            "18/18 [==============================] - 0s 2ms/step - loss: 0.0315 - mean_squared_error: 0.0315\n",
            "Epoch 265/300\n",
            "18/18 [==============================] - 0s 1ms/step - loss: 0.0345 - mean_squared_error: 0.0345\n",
            "Epoch 266/300\n",
            "18/18 [==============================] - 0s 2ms/step - loss: 0.0322 - mean_squared_error: 0.0322\n",
            "Epoch 267/300\n",
            "18/18 [==============================] - 0s 2ms/step - loss: 0.0315 - mean_squared_error: 0.0315\n",
            "Epoch 268/300\n",
            "18/18 [==============================] - 0s 2ms/step - loss: 0.0316 - mean_squared_error: 0.0316\n",
            "Epoch 269/300\n",
            "18/18 [==============================] - 0s 1ms/step - loss: 0.0319 - mean_squared_error: 0.0319\n",
            "Epoch 270/300\n",
            "18/18 [==============================] - 0s 2ms/step - loss: 0.0311 - mean_squared_error: 0.0311\n",
            "Epoch 271/300\n",
            "18/18 [==============================] - 0s 2ms/step - loss: 0.0303 - mean_squared_error: 0.0303\n",
            "Epoch 272/300\n",
            "18/18 [==============================] - 0s 1ms/step - loss: 0.0311 - mean_squared_error: 0.0311\n",
            "Epoch 273/300\n",
            "18/18 [==============================] - 0s 2ms/step - loss: 0.0335 - mean_squared_error: 0.0335\n",
            "Epoch 274/300\n",
            "18/18 [==============================] - 0s 2ms/step - loss: 0.0310 - mean_squared_error: 0.0310\n",
            "Epoch 275/300\n",
            "18/18 [==============================] - 0s 2ms/step - loss: 0.0322 - mean_squared_error: 0.0322\n",
            "Epoch 276/300\n",
            "18/18 [==============================] - 0s 2ms/step - loss: 0.0355 - mean_squared_error: 0.0355\n",
            "Epoch 277/300\n",
            "18/18 [==============================] - 0s 2ms/step - loss: 0.0313 - mean_squared_error: 0.0313\n",
            "Epoch 278/300\n",
            "18/18 [==============================] - 0s 2ms/step - loss: 0.0314 - mean_squared_error: 0.0314\n",
            "Epoch 279/300\n",
            "18/18 [==============================] - 0s 1ms/step - loss: 0.0318 - mean_squared_error: 0.0318\n",
            "Epoch 280/300\n",
            "18/18 [==============================] - 0s 2ms/step - loss: 0.0330 - mean_squared_error: 0.0330\n",
            "Epoch 281/300\n",
            "18/18 [==============================] - 0s 2ms/step - loss: 0.0353 - mean_squared_error: 0.0353\n",
            "Epoch 282/300\n",
            "18/18 [==============================] - 0s 1ms/step - loss: 0.0337 - mean_squared_error: 0.0337\n",
            "Epoch 283/300\n",
            "18/18 [==============================] - 0s 2ms/step - loss: 0.0323 - mean_squared_error: 0.0323\n",
            "Epoch 284/300\n",
            "18/18 [==============================] - 0s 2ms/step - loss: 0.0376 - mean_squared_error: 0.0376\n",
            "Epoch 285/300\n",
            "18/18 [==============================] - 0s 2ms/step - loss: 0.0313 - mean_squared_error: 0.0313\n",
            "Epoch 286/300\n",
            "18/18 [==============================] - 0s 2ms/step - loss: 0.0321 - mean_squared_error: 0.0321\n",
            "Epoch 287/300\n",
            "18/18 [==============================] - 0s 2ms/step - loss: 0.0303 - mean_squared_error: 0.0303\n",
            "Epoch 288/300\n",
            "18/18 [==============================] - 0s 2ms/step - loss: 0.0339 - mean_squared_error: 0.0339\n",
            "Epoch 289/300\n",
            "18/18 [==============================] - 0s 1ms/step - loss: 0.0364 - mean_squared_error: 0.0364\n",
            "Epoch 290/300\n",
            "18/18 [==============================] - 0s 2ms/step - loss: 0.0323 - mean_squared_error: 0.0323\n",
            "Epoch 291/300\n",
            "18/18 [==============================] - 0s 1ms/step - loss: 0.0333 - mean_squared_error: 0.0333\n",
            "Epoch 292/300\n",
            "18/18 [==============================] - 0s 2ms/step - loss: 0.0305 - mean_squared_error: 0.0305\n",
            "Epoch 293/300\n",
            "18/18 [==============================] - 0s 2ms/step - loss: 0.0321 - mean_squared_error: 0.0321\n",
            "Epoch 294/300\n",
            "18/18 [==============================] - 0s 2ms/step - loss: 0.0358 - mean_squared_error: 0.0358\n",
            "Epoch 295/300\n",
            "18/18 [==============================] - 0s 2ms/step - loss: 0.0305 - mean_squared_error: 0.0305\n",
            "Epoch 296/300\n",
            "18/18 [==============================] - 0s 2ms/step - loss: 0.0328 - mean_squared_error: 0.0328\n",
            "Epoch 297/300\n",
            "18/18 [==============================] - 0s 2ms/step - loss: 0.0316 - mean_squared_error: 0.0316\n",
            "Epoch 298/300\n",
            "18/18 [==============================] - 0s 2ms/step - loss: 0.0351 - mean_squared_error: 0.0351\n",
            "Epoch 299/300\n",
            "18/18 [==============================] - 0s 2ms/step - loss: 0.0307 - mean_squared_error: 0.0307\n",
            "Epoch 300/300\n",
            "18/18 [==============================] - 0s 1ms/step - loss: 0.0374 - mean_squared_error: 0.0374\n"
          ]
        },
        {
          "output_type": "execute_result",
          "data": {
            "text/plain": [
              "<keras.callbacks.History at 0x7fbde1f96390>"
            ]
          },
          "metadata": {},
          "execution_count": 11
        }
      ]
    },
    {
      "cell_type": "markdown",
      "metadata": {
        "id": "ePX3rF-REXAA"
      },
      "source": [
        "### Predictions on the test set using the above model :"
      ]
    },
    {
      "cell_type": "code",
      "metadata": {
        "id": "KNYURWU9Jgqr"
      },
      "source": [
        "Y_pred = model.predict(X_test)\n",
        "\n"
      ],
      "execution_count": 12,
      "outputs": []
    },
    {
      "cell_type": "markdown",
      "metadata": {
        "id": "yoeoxQs2EpK5"
      },
      "source": [
        "### Extracting the weights of each layer :"
      ]
    },
    {
      "cell_type": "code",
      "metadata": {
        "colab": {
          "base_uri": "https://localhost:8080/"
        },
        "id": "qNFzpzEpPT93",
        "outputId": "97ca101f-efdc-49cb-dd14-b136b79cce55"
      },
      "source": [
        "print(\"Layer 1 weights:\")\n",
        "print(model.layers[0].get_weights()[0])\n",
        "print(\"Layer 1 Bias:\")\n",
        "print(model.layers[0].get_weights()[1])\n"
      ],
      "execution_count": 13,
      "outputs": [
        {
          "output_type": "stream",
          "name": "stdout",
          "text": [
            "Layer 1 weights:\n",
            "[[-0.6199978   0.7369454   0.64895284  0.54729235  0.5393529  -0.46109247\n",
            "   0.7260554 ]\n",
            " [ 0.03340346 -0.37643728  0.22263312 -0.23014711 -0.1143057  -0.31159627\n",
            "   0.49062175]]\n",
            "Layer 1 Bias:\n",
            "[ 0.          0.8051617  -0.97641784 -1.120417    1.0478306   0.\n",
            "  0.93596596]\n"
          ]
        }
      ]
    },
    {
      "cell_type": "code",
      "metadata": {
        "colab": {
          "base_uri": "https://localhost:8080/"
        },
        "id": "PeEqSHoyP0Nk",
        "outputId": "e0dbe26b-2db8-437c-eccf-15731d72aba9"
      },
      "source": [
        "print(\"Layer 2 Weights:\")\n",
        "print(model.layers[1].get_weights()[0])\n",
        "print(\"Layer 2 Bias:\")\n",
        "print(model.layers[1].get_weights()[1])"
      ],
      "execution_count": 14,
      "outputs": [
        {
          "output_type": "stream",
          "name": "stdout",
          "text": [
            "Layer 2 Weights:\n",
            "[[-0.23432592  0.5872774  -0.1443224  -0.12732482 -0.54135776  0.05180097\n",
            "  -0.35235232]\n",
            " [-0.0227408   0.3039802   0.587535    0.8584613  -0.33124423  0.05178434\n",
            "   0.10643691]\n",
            " [-0.06281546  0.29087442  0.44778144 -0.72662485 -0.43742493 -0.27202272\n",
            "  -0.5907918 ]\n",
            " [ 0.5030204   0.49062777 -0.3634663  -0.7618584   0.01577702  0.31433704\n",
            "   0.1550374 ]\n",
            " [ 0.22657005 -0.4200397  -0.12096697  0.51703805  0.10162198  0.5878666\n",
            "  -0.5855518 ]\n",
            " [ 0.18151402  0.43045104 -0.37246627  0.26190943 -0.03549278  0.6508379\n",
            "  -0.57483137]\n",
            " [-0.31124958  0.20110743 -0.5278027   0.37705156  0.14958571  0.44225422\n",
            "   0.10101134]]\n",
            "Layer 2 Bias:\n",
            "[-0.0480974  -0.9444386   0.          0.99109405 -0.04921899  0.91723925\n",
            " -0.        ]\n"
          ]
        }
      ]
    },
    {
      "cell_type": "code",
      "metadata": {
        "colab": {
          "base_uri": "https://localhost:8080/"
        },
        "id": "XYaj4Mz6P3fx",
        "outputId": "e731373f-57dc-49e6-96be-289515df4d60"
      },
      "source": [
        "print(\"Output Layer Weights:\")\n",
        "print(model.layers[2].get_weights()[0])\n",
        "print(\"Output Layer Bias:\")\n",
        "print(model.layers[2].get_weights()[1])\n"
      ],
      "execution_count": 15,
      "outputs": [
        {
          "output_type": "stream",
          "name": "stdout",
          "text": [
            "Output Layer Weights:\n",
            "[[ 0.25942189]\n",
            " [ 0.5299617 ]\n",
            " [ 0.07412815]\n",
            " [-0.72933584]\n",
            " [-0.24616808]\n",
            " [-0.31952065]\n",
            " [-0.27790505]]\n",
            "Output Layer Bias:\n",
            "[-0.92973435]\n"
          ]
        }
      ]
    },
    {
      "cell_type": "markdown",
      "metadata": {
        "id": "Sx39rOkIE_VY"
      },
      "source": [
        "### Evaluation Metrices :"
      ]
    },
    {
      "cell_type": "markdown",
      "metadata": {
        "id": "wIhwXa6QFFGw"
      },
      "source": [
        "RMSE calculation :"
      ]
    },
    {
      "cell_type": "code",
      "metadata": {
        "colab": {
          "base_uri": "https://localhost:8080/"
        },
        "id": "gZeOTSJpMIBx",
        "outputId": "a5b92836-8cf9-4ec9-a26b-18f6c5540ac2"
      },
      "source": [
        "rmse = 0\n",
        "new_Y_pred = []\n",
        "for i in range(len(Y_pred)):\n",
        "  new_Y_pred.append(Y_pred[i][0]*100)\n",
        "  #print(Y_pred[i][0]*100, Y_test[i]*100)\n",
        "  rmse += (Y_pred[i][0]*100 - Y_test[i]*100)**2\n",
        "rmse /= len(Y_pred)\n",
        "import math\n",
        "rmse = math.sqrt(rmse)\n",
        "print(\"RMSE is \",rmse)"
      ],
      "execution_count": 16,
      "outputs": [
        {
          "output_type": "stream",
          "name": "stdout",
          "text": [
            "RMSE is  11.461655208037463\n"
          ]
        }
      ]
    },
    {
      "cell_type": "markdown",
      "metadata": {
        "id": "RBF65kiYF4Wx"
      },
      "source": [
        "R2 Score:"
      ]
    },
    {
      "cell_type": "code",
      "metadata": {
        "id": "Vt8cD832Xy4o",
        "colab": {
          "base_uri": "https://localhost:8080/"
        },
        "outputId": "7618e6be-1c7d-4cd9-abae-34f5ac1336be"
      },
      "source": [
        "r2 = r2_score(Y_test*100,new_Y_pred)\n",
        "print('r2 score for the model is', r2)"
      ],
      "execution_count": 17,
      "outputs": [
        {
          "output_type": "stream",
          "name": "stdout",
          "text": [
            "r2 score for the model is 0.9056075123704405\n"
          ]
        }
      ]
    }
  ]
}